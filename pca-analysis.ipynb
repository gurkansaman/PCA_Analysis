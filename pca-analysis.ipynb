{
 "cells": [
  {
   "cell_type": "markdown",
   "id": "85b75d0c",
   "metadata": {
    "papermill": {
     "duration": 0.010487,
     "end_time": "2021-07-24T20:48:48.219404",
     "exception": false,
     "start_time": "2021-07-24T20:48:48.208917",
     "status": "completed"
    },
    "tags": []
   },
   "source": [
    "## What is PCA ?\n",
    "**Principal component analysis, or PCA, is a statistical procedure that allows you to summarize the information content in large data tables by means of a smaller set of “summary indices” that can be more easily visualized and analyzed.**"
   ]
  },
  {
   "cell_type": "code",
   "execution_count": 1,
   "id": "18f98b4b",
   "metadata": {
    "execution": {
     "iopub.execute_input": "2021-07-24T20:48:48.244376Z",
     "iopub.status.busy": "2021-07-24T20:48:48.243753Z",
     "iopub.status.idle": "2021-07-24T20:48:49.449511Z",
     "shell.execute_reply": "2021-07-24T20:48:49.448783Z",
     "shell.execute_reply.started": "2021-07-24T20:42:37.744087Z"
    },
    "papermill": {
     "duration": 1.222691,
     "end_time": "2021-07-24T20:48:49.449662",
     "exception": false,
     "start_time": "2021-07-24T20:48:48.226971",
     "status": "completed"
    },
    "tags": []
   },
   "outputs": [],
   "source": [
    "# Importing Libraries:\n",
    "import numpy as np\n",
    "import pandas as pd\n",
    "import matplotlib.pyplot as plt\n",
    "from sklearn.preprocessing import MinMaxScaler\n",
    "from sklearn.preprocessing import StandardScaler\n",
    "from sklearn.decomposition import PCA"
   ]
  },
  {
   "cell_type": "code",
   "execution_count": 2,
   "id": "0b183bf6",
   "metadata": {
    "execution": {
     "iopub.execute_input": "2021-07-24T20:48:49.468372Z",
     "iopub.status.busy": "2021-07-24T20:48:49.467713Z",
     "iopub.status.idle": "2021-07-24T20:48:49.489233Z",
     "shell.execute_reply": "2021-07-24T20:48:49.488676Z",
     "shell.execute_reply.started": "2021-07-24T20:41:05.411066Z"
    },
    "papermill": {
     "duration": 0.032551,
     "end_time": "2021-07-24T20:48:49.489376",
     "exception": false,
     "start_time": "2021-07-24T20:48:49.456825",
     "status": "completed"
    },
    "tags": []
   },
   "outputs": [],
   "source": [
    "# Importing file:\n",
    "df = pd.read_csv(\"/kaggle/input/hitters/hitters.csv\")"
   ]
  },
  {
   "cell_type": "code",
   "execution_count": 3,
   "id": "b0c8c711",
   "metadata": {
    "execution": {
     "iopub.execute_input": "2021-07-24T20:48:49.521262Z",
     "iopub.status.busy": "2021-07-24T20:48:49.520630Z",
     "iopub.status.idle": "2021-07-24T20:48:49.523514Z",
     "shell.execute_reply": "2021-07-24T20:48:49.523063Z",
     "shell.execute_reply.started": "2021-07-24T20:42:12.164222Z"
    },
    "papermill": {
     "duration": 0.027298,
     "end_time": "2021-07-24T20:48:49.523652",
     "exception": false,
     "start_time": "2021-07-24T20:48:49.496354",
     "status": "completed"
    },
    "tags": []
   },
   "outputs": [],
   "source": [
    "# Selected numeric columns:\n",
    "num_cols = [col for col in df.columns if df[col].dtypes != \"O\"]\n",
    "df = df[num_cols]"
   ]
  },
  {
   "cell_type": "code",
   "execution_count": 4,
   "id": "12c01bfe",
   "metadata": {
    "execution": {
     "iopub.execute_input": "2021-07-24T20:48:49.544411Z",
     "iopub.status.busy": "2021-07-24T20:48:49.543683Z",
     "iopub.status.idle": "2021-07-24T20:48:49.567176Z",
     "shell.execute_reply": "2021-07-24T20:48:49.567607Z",
     "shell.execute_reply.started": "2021-07-24T20:42:13.967500Z"
    },
    "papermill": {
     "duration": 0.03721,
     "end_time": "2021-07-24T20:48:49.567788",
     "exception": false,
     "start_time": "2021-07-24T20:48:49.530578",
     "status": "completed"
    },
    "tags": []
   },
   "outputs": [
    {
     "data": {
      "text/plain": [
       "(263, 17)"
      ]
     },
     "execution_count": 4,
     "metadata": {},
     "output_type": "execute_result"
    }
   ],
   "source": [
    "# Dropping for NA values\n",
    "df.dropna(inplace=True)\n",
    "df.shape"
   ]
  },
  {
   "cell_type": "code",
   "execution_count": 5,
   "id": "3792f755",
   "metadata": {
    "execution": {
     "iopub.execute_input": "2021-07-24T20:48:49.585871Z",
     "iopub.status.busy": "2021-07-24T20:48:49.585026Z",
     "iopub.status.idle": "2021-07-24T20:48:49.594513Z",
     "shell.execute_reply": "2021-07-24T20:48:49.595093Z",
     "shell.execute_reply.started": "2021-07-24T20:42:46.335999Z"
    },
    "papermill": {
     "duration": 0.019905,
     "end_time": "2021-07-24T20:48:49.595263",
     "exception": false,
     "start_time": "2021-07-24T20:48:49.575358",
     "status": "completed"
    },
    "tags": []
   },
   "outputs": [],
   "source": [
    "# Applying standartscaling process:\n",
    "df = StandardScaler().fit_transform(df)"
   ]
  },
  {
   "cell_type": "code",
   "execution_count": 6,
   "id": "cd5d6d52",
   "metadata": {
    "execution": {
     "iopub.execute_input": "2021-07-24T20:48:49.612990Z",
     "iopub.status.busy": "2021-07-24T20:48:49.612287Z",
     "iopub.status.idle": "2021-07-24T20:48:49.813870Z",
     "shell.execute_reply": "2021-07-24T20:48:49.814335Z",
     "shell.execute_reply.started": "2021-07-24T20:42:49.572388Z"
    },
    "papermill": {
     "duration": 0.211657,
     "end_time": "2021-07-24T20:48:49.814521",
     "exception": false,
     "start_time": "2021-07-24T20:48:49.602864",
     "status": "completed"
    },
    "tags": []
   },
   "outputs": [],
   "source": [
    "# PCA Method \n",
    "# Firstly input for 5 component\n",
    "\n",
    "pca = PCA(5)\n",
    "pca_fit = pca.fit_transform(df)"
   ]
  },
  {
   "cell_type": "code",
   "execution_count": 7,
   "id": "3b537c92",
   "metadata": {
    "execution": {
     "iopub.execute_input": "2021-07-24T20:48:49.831907Z",
     "iopub.status.busy": "2021-07-24T20:48:49.830994Z",
     "iopub.status.idle": "2021-07-24T20:48:49.836809Z",
     "shell.execute_reply": "2021-07-24T20:48:49.837274Z"
    },
    "papermill": {
     "duration": 0.015851,
     "end_time": "2021-07-24T20:48:49.837427",
     "exception": false,
     "start_time": "2021-07-24T20:48:49.821576",
     "status": "completed"
    },
    "tags": []
   },
   "outputs": [
    {
     "data": {
      "text/plain": [
       "array([0.45245466, 0.69492267, 0.79661947, 0.85055387, 0.89216822])"
      ]
     },
     "execution_count": 7,
     "metadata": {},
     "output_type": "execute_result"
    }
   ],
   "source": [
    "# Importance ratio by components:\n",
    "\n",
    "pca.explained_variance_ratio_\n",
    "np.cumsum(pca.explained_variance_ratio_)"
   ]
  },
  {
   "cell_type": "code",
   "execution_count": 8,
   "id": "e0a337cf",
   "metadata": {
    "execution": {
     "iopub.execute_input": "2021-07-24T20:48:49.855436Z",
     "iopub.status.busy": "2021-07-24T20:48:49.854562Z",
     "iopub.status.idle": "2021-07-24T20:48:50.025135Z",
     "shell.execute_reply": "2021-07-24T20:48:50.025577Z",
     "shell.execute_reply.started": "2021-07-24T20:42:53.148946Z"
    },
    "papermill": {
     "duration": 0.181044,
     "end_time": "2021-07-24T20:48:50.025758",
     "exception": false,
     "start_time": "2021-07-24T20:48:49.844714",
     "status": "completed"
    },
    "tags": []
   },
   "outputs": [
    {
     "data": {
      "image/png": "[encoded data removed]",
      "text/plain": [
       "<Figure size 432x288 with 1 Axes>"
      ]
     },
     "metadata": {
      "needs_background": "light"
     },
     "output_type": "display_data"
    }
   ],
   "source": [
    "################################\n",
    "# Visualizing\n",
    "################################\n",
    "\n",
    "pca = PCA().fit(df)\n",
    "plt.plot(np.cumsum(pca.explained_variance_ratio_))\n",
    "plt.xlabel(\"Number of components\")\n",
    "plt.ylabel(\"Cumulative variance ratio\")\n",
    "plt.show()"
   ]
  },
  {
   "cell_type": "code",
   "execution_count": 9,
   "id": "3b31a6f5",
   "metadata": {
    "execution": {
     "iopub.execute_input": "2021-07-24T20:48:50.051697Z",
     "iopub.status.busy": "2021-07-24T20:48:50.050706Z",
     "iopub.status.idle": "2021-07-24T20:48:50.056242Z",
     "shell.execute_reply": "2021-07-24T20:48:50.056867Z",
     "shell.execute_reply.started": "2021-07-24T20:42:58.204078Z"
    },
    "papermill": {
     "duration": 0.022462,
     "end_time": "2021-07-24T20:48:50.057043",
     "exception": false,
     "start_time": "2021-07-24T20:48:50.034581",
     "status": "completed"
    },
    "tags": []
   },
   "outputs": [
    {
     "data": {
      "text/plain": [
       "array([0.45245466, 0.69492267, 0.79661947])"
      ]
     },
     "execution_count": 9,
     "metadata": {},
     "output_type": "execute_result"
    }
   ],
   "source": [
    "# For n=3:\n",
    "\n",
    "pca = PCA(n_components=3)\n",
    "pca_fit = pca.fit_transform(df)\n",
    "pca_fit\n",
    "\n",
    "# cumsum\n",
    "np.cumsum(pca.explained_variance_ratio_)"
   ]
  }
 ],
 "metadata": {
  "kernelspec": {
   "display_name": "Python 3",
   "language": "python",
   "name": "python3"
  },
  "language_info": {
   "codemirror_mode": {
    "name": "ipython",
    "version": 3
   },
   "file_extension": ".py",
   "mimetype": "text/x-python",
   "name": "python",
   "nbconvert_exporter": "python",
   "pygments_lexer": "ipython3",
   "version": "3.7.10"
  },
  "papermill": {
   "default_parameters": {},
   "duration": 10.842582,
   "end_time": "2021-07-24T20:48:51.393300",
   "environment_variables": {},
   "exception": null,
   "input_path": "__notebook__.ipynb",
   "output_path": "__notebook__.ipynb",
   "parameters": {},
   "start_time": "2021-07-24T20:48:40.550718",
   "version": "2.3.3"
  }
 },
 "nbformat": 4,
 "nbformat_minor": 5
}
